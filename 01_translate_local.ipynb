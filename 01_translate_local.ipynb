{
 "cells": [
  {
   "cell_type": "markdown",
   "metadata": {},
   "source": [
    "# Translate RAIS Datasets\n",
    "The RAIS datasets come in Portugese. This code will translate all variable and value labels to english using google translate. The document first helps you set up your local development environment (and optionally Quest) to utilize Google Cloud APIs, then proceeds with the workflow.\n",
    "\n",
    "## Setting Up Google Cloud\n",
    "Before you begin, you will need to set up an account and project in Google Cloud. You can use a personal Google account for this step.\n",
    "\n",
    "### 1: Create a Google Cloud account and project\n",
    "1. Navigate to https://cloud.google.com/ to set up an account with Google Cloud (skip if you already use Google Cloud).\n",
    "2. In the console, create a new project: https://developers.google.com/workspace/guides/create-project.\n",
    "3. Enable Google Translate API on that project: https://cloud.google.com/translate/docs/setup\n",
    "\n",
    "### 2: Set up your Local Development Environment\n",
    "1. Install Google Cloud CLI on your machine: https://cloud.google.com/sdk/docs/install \n",
    "2. On your local development environment, initialize Google Cloud for the first time: `gcloud init`.\n",
    "3. Once you have authenticated, choose the default project. This makes it easier for you to interact with APIs enabled for that project.\n",
    "4. You'll need to ensure the GC project is billable from local system auth: `gcloud auth application-default set-quota-project <PROJECT ID>`\n",
    "5. Ensure Google Cloud core (`conda install -c conda-forge google-cloud-core`) and Google Cloud Translate (`conda install -c conda-forge google-cloud-translate\n",
    "`) are installed in your anaconda environment. (Optionally use pip).\n",
    "\n",
    "### 3: [Optional] Set up gcloud on Quest\n",
    "1. Open a new Quest SSH terminal.\n",
    "2. [Optional] Activate the conda environment for your project: `conda activate ENV_NAME`\n",
    "2. Load gcloud CLI:  `module load gcloud/379.0.0`.\n",
    "3. Initialize Google Cloud for the first time: `gcloud init`\n",
    "4. The terminal will give you instructions. You must copy the code it gives you into a command prompt terminal on your local machine. That will then pop you over to a browser, where you will authenticate. Once that it done, your local terminal will provide you some code. Copy this back into your Quest terminal to complete authentication.\n",
    "Note: If this fails for some reason, just type in `gcloud auth application-default set-quota-project <PROJECT ID>` to try again. You will know it worked when the last line in te terminal reads \"Quota project \"<PROJECT ID>\" was added to ADC which can be used by Google client libraries for billing and quota. Note that some services may still bill the project owning the resource.\"\n",
    "5. Select the project ID you wish to work with. This will make that project your default project. Form now on, any Google Cloud API commands you use will use the account and project that you authenticated with. You can change this for any given script, but will need to do so manually. I will not detail that here.\n",
    "6. Ensure Google Cloud core (`conda install -c conda-forge google-cloud-core`) and Google Cloud Translate (`conda install -c conda-forge google-cloud-translate`) are installed in your anaconda environment. (Optionally use pip).\n",
    "\n",
    "That's it! To quickly check whether it has worked (on LDE or Quest), open a quick iPython environment (or notebook) and try the following:"
   ]
  },
  {
   "cell_type": "code",
   "execution_count": 2,
   "metadata": {},
   "outputs": [
    {
     "data": {
      "text/plain": [
       "{'translatedText': 'Bonjour!', 'input': 'Hello!'}"
      ]
     },
     "execution_count": 2,
     "metadata": {},
     "output_type": "execute_result"
    }
   ],
   "source": [
    "from google.cloud import translate_v2 as translate\n",
    "translate_client = translate.Client()\n",
    "translate_client.translate(\"Hello!\",target_language='fr',source_language='en')"
   ]
  },
  {
   "cell_type": "code",
   "execution_count": 4,
   "metadata": {},
   "outputs": [
    {
     "data": {
      "text/plain": [
       "{'translatedText': 'नमस्ते!', 'input': 'Hello!'}"
      ]
     },
     "execution_count": 4,
     "metadata": {},
     "output_type": "execute_result"
    }
   ],
   "source": [
    "translate_client.translate(\"Hello!\",target_language='hi',source_language='en')"
   ]
  },
  {
   "cell_type": "markdown",
   "metadata": {},
   "source": [
    "## Automatically Translate .dta Labels\n",
    "Now I will move on to automatically translating labels from Stata .dta files. in this section, I will create a series of functions:\n",
    "- `translate_dict`: This function takes a dictionary of text strings and translates each value in the dictionary. It returns a new dictionary with the translated values.\n",
    "- `labTrans`: This function reads in a Stata .dta file, extracts the variable and value labels, and uses `translate_dict` to translate them. It returns two dictionaries: one with the translated variable labels and one with the translated value labels.\n",
    "- `doLabs`: This collects the variable and value labels and writes them to .do files."
   ]
  },
  {
   "cell_type": "code",
   "execution_count": 2,
   "metadata": {},
   "outputs": [],
   "source": [
    "import pandas as pd\n",
    "from google.cloud import translate_v2 as translate\n",
    "import os\n",
    "\n",
    "maindir = '<path-to-main-directory>'\n",
    "os.chdir(maindir)"
   ]
  },
  {
   "cell_type": "code",
   "execution_count": 3,
   "metadata": {},
   "outputs": [],
   "source": [
    "# Define a function to translate each value in a given dictionary\n",
    "def translate_dict(dictionary, client, target='en', source='pt'):\n",
    "    \"\"\"\n",
    "    Translates each value in a given dictionary using the Google Translate API.\n",
    "\n",
    "    Args:\n",
    "        dictionary (dict): The dictionary containing text strings to be translated.\n",
    "        client (google.cloud.translate_v2.Client): The Google Translate client.\n",
    "        target (str, optional): The target language code. Defaults to 'en'.\n",
    "        source (str, optional): The source language code. Defaults to 'pt'.\n",
    "\n",
    "    Returns:\n",
    "        dict: The dictionary with translated values.\n",
    "    \"\"\"\n",
    "    for key, value in dictionary.items():\n",
    "        result = client.translate(value, target_language=target, source_language=source)\n",
    "        dictionary[key] = result['translatedText'].replace(\"&#39;\", \"'\")\n",
    "    return dictionary\n",
    "\n",
    "\n",
    "# Define the final function to read in the data and translate the variable and value labels\n",
    "def labTrans(file, client, target='en', source='pt'):\n",
    "    \"\"\"\n",
    "    Reads in a Stata .dta file, extracts the variable and value labels, and translates them using the Google Translate API.\n",
    "\n",
    "    Args:\n",
    "        file (str): The path to the Stata .dta file.\n",
    "        client (google.cloud.translate_v2.Client): The Google Translate client.\n",
    "        target (str, optional): The target language code. Defaults to 'en'.\n",
    "        source (str, optional): The source language code. Defaults to 'pt'.\n",
    "\n",
    "    Returns:\n",
    "        tuple: A tuple containing the translated variable labels dictionary and the translated value labels dictionary.\n",
    "    \"\"\"\n",
    "    # read in file and get the variable and value labels\n",
    "    reader = pd.read_stata(file, iterator=True)\n",
    "    varlabels_source = reader.variable_labels()\n",
    "    vallabs_source = reader.value_labels()\n",
    "\n",
    "    # translate variable labels\n",
    "    varlabels_target = translate_dict(varlabels_source, client, target, source)\n",
    "\n",
    "    # For each key in vallabs_source, translate the value labels\n",
    "    vallabs_target = {}\n",
    "    for key in vallabs_source.keys():\n",
    "        vallabs_target[key] = translate_dict(vallabs_source[key], client, target, source)\n",
    "\n",
    "    return varlabels_target, vallabs_target\n",
    "\n",
    "\n",
    "# Now take the output of the labTrans function and write the labels to do files\n",
    "def doLabs(infile, outfile_stub, client, target='en', source='pt'):\n",
    "    \"\"\"\n",
    "    Takes the output of the labTrans function and writes the translated variable and value labels to .do files.\n",
    "\n",
    "    Args:\n",
    "        infile (str): The path to the Stata .dta file.\n",
    "        outfile_stub (str): The path and filename stub for the output .do files.\n",
    "        client (google.cloud.translate_v2.Client): The Google Translate client.\n",
    "        target (str, optional): The target language code. Defaults to 'en'.\n",
    "        source (str, optional): The source language code. Defaults to 'pt'.\n",
    "    \"\"\"\n",
    "    varlabels_target, vallabs_target = labTrans(infile, client, target, source)\n",
    "\n",
    "    # Ensure outfile ends in .do. If not, return error\n",
    "    if outfile_stub[-3:] != '.do':\n",
    "        print('Error: outfile must end in .do')\n",
    "        return\n",
    "\n",
    "    # Create file names: -varlabs.do and -vallabs.do\n",
    "    varlab_file = outfile_stub[:-3] + '-varlabs.do'\n",
    "    vallab_file = outfile_stub[:-3] + '-vallabs.do'\n",
    "\n",
    "    # Get the name of the file without the path\n",
    "    fname = os.path.basename(infile)\n",
    "\n",
    "    # Write the variable labels to a do file with each line being \"label variable varname \"varlabel\"\"\n",
    "    with open(varlab_file, 'w') as f:\n",
    "        f.write(f'* Translated Variable Labels for {fname} \\n')\n",
    "        f.write(f'* Author: Aaron Wolf (aaron.wolf@u.northwestern.edu) \\n')\n",
    "        for key, value in varlabels_target.items():\n",
    "            f.write('label variable ' + key + ' \"' + value + '\"\\n')\n",
    "\n",
    "    # Do the same for vallabels (if vallabs_target is not empty)\n",
    "    if vallabs_target:\n",
    "        with open(vallab_file, 'w') as f:\n",
    "            f.write(f'* Translated Value Labels for {fname} \\n')\n",
    "            f.write(f'* Author: Aaron Wolf (aaron.wolf@u.northwestern.edu) \\n')\n",
    "            for key, value in vallabs_target.items():\n",
    "                f.write(f'* {key} \\n')\n",
    "                for k, v in value.items():\n",
    "                    f.write(f'label define {key} {k} \"{v}\", modify \\n')\n",
    "    else:\n",
    "        print(f'No value labels in {fname}')"
   ]
  },
  {
   "cell_type": "code",
   "execution_count": 4,
   "metadata": {},
   "outputs": [],
   "source": [
    "# Now, test!\n",
    "reiswd = '<relative-path-to-data>'\n",
    "dir = 'samples'\n",
    "file = 'RAIS_sample5_1992.dta'\n",
    "infile = os.path.join(reiswd,dir,file)\n",
    "targetLanguage = 'en'\n",
    "outfile_stub = f'labels-{targetLanguage}/' + file.replace('.dta','.do')\n",
    "client = translate.Client() # This is the Google Translate client\n",
    "\n",
    "doLabs(infile,outfile_stub,client,target=targetLanguage,source='pt')"
   ]
  },
  {
   "cell_type": "markdown",
   "metadata": {},
   "source": [
    "## Translate Labels for All Files"
   ]
  },
  {
   "cell_type": "code",
   "execution_count": 13,
   "metadata": {},
   "outputs": [],
   "source": [
    "# Now loop through all directories and files in reiswd = '../../../RAIS Dataset 2023/output/data/' \n",
    "#and translate all files. Save the dataset in ../data in the same relative directory and with the same name\n",
    "reiswd = '<relative-path-to-data>'\n",
    "dirlist = os.listdir(f'{reiswd}') # Directory with folders full of data\n",
    "labdir = f'labels-{targetLanguage}'                # Main Directory to save the do files (in relative folders)\n",
    "if not os.path.exists(labdir):\n",
    "    os.makedirs(labdir)\n",
    "client = translate.Client()             # Google translate client\n",
    "# Start loop\n",
    "for dir in dirlist:\n",
    "    print(dir)\n",
    "    # Make sure ../{labdir}/{dir} exists\n",
    "    if not os.path.exists(f'{labdir}/{dir}'):\n",
    "        os.makedirs(f'{labdir}/{dir}')\n",
    "    # Loop through dirlist, and translate labels from all files, and save to ../{labdir}/{dir}\n",
    "    filelist = os.listdir(f'{reiswd}/{dir}')\n",
    "    for file in filelist:\n",
    "        if file.endswith('.dta'):\n",
    "            print(file)\n",
    "            infile = os.path.join(reiswd,dir,file)\n",
    "            outfile_stub = f'{labdir}/{dir}/' + file.replace('.dta','.do')\n",
    "            # Translate!\n",
    "            doLabs(infile,outfile_stub,client,target=targetLanguage,source='pt')"
   ]
  }
 ],
 "metadata": {
  "kernelspec": {
   "display_name": "py_env",
   "language": "python",
   "name": "python3"
  },
  "language_info": {
   "codemirror_mode": {
    "name": "ipython",
    "version": 3
   },
   "file_extension": ".py",
   "mimetype": "text/x-python",
   "name": "python",
   "nbconvert_exporter": "python",
   "pygments_lexer": "ipython3",
   "version": "3.9.16"
  }
 },
 "nbformat": 4,
 "nbformat_minor": 2
}
